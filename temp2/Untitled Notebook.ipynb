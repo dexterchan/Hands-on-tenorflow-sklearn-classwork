{
 "cells": [
  {
   "cell_type": "code",
   "execution_count": 8,
   "metadata": {
    "collapsed": false
   },
   "outputs": [
    {
     "name": "stdout",
     "output_type": "stream",
     "text": [
      "/content/datalab/notebooks/model_reuse\n",
      "batch_norm/\n",
      "batch_norm/events.out.tfevents.1515923108.4502e9c56780\n",
      "batch_norm/events.out.tfevents.1515924225.4502e9c56780\n",
      "checkpoint\n",
      "my_model_deepLearning_batch_norm_final.ckpt.data-00000-of-00001\n",
      "my_model_deepLearning_batch_norm_final.ckpt.index\n",
      "my_model_deepLearning_batch_norm_final.ckpt.meta\n",
      "Untitled Notebook.ipynb\n"
     ]
    }
   ],
   "source": [
    "%%bash\n",
    "pwd\n",
    "\n",
    "tar czvf pack2.log.tar.gz *"
   ]
  },
  {
   "cell_type": "code",
   "execution_count": 6,
   "metadata": {
    "collapsed": false
   },
   "outputs": [
    {
     "name": "stdout",
     "output_type": "stream",
     "text": [
      "batch_norm\n",
      "checkpoint\n",
      "my_model_deepLearning_batch_norm_final.ckpt.data-00000-of-00001\n",
      "my_model_deepLearning_batch_norm_final.ckpt.index\n",
      "my_model_deepLearning_batch_norm_final.ckpt.meta\n",
      "Untitled Notebook.ipynb\n"
     ]
    }
   ],
   "source": [
    "%%bash\n",
    "ls"
   ]
  },
  {
   "cell_type": "code",
   "execution_count": null,
   "metadata": {
    "collapsed": true
   },
   "outputs": [],
   "source": []
  }
 ],
 "metadata": {
  "kernelspec": {
   "display_name": "Python 3",
   "language": "python",
   "name": "python3"
  },
  "language_info": {
   "codemirror_mode": {
    "name": "ipython",
    "version": 3
   },
   "file_extension": ".py",
   "mimetype": "text/x-python",
   "name": "python",
   "nbconvert_exporter": "python",
   "pygments_lexer": "ipython3",
   "version": "3.5.2"
  }
 },
 "nbformat": 4,
 "nbformat_minor": 2
}
